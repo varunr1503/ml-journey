{
 "cells": [
  {
   "cell_type": "code",
   "execution_count": null,
   "id": "b359c18c",
   "metadata": {},
   "outputs": [],
   "source": [
    "import pandas as pd\n",
    "from sklearn.tree import DecisionTreeClassifier\n",
    "\n",
    "\n",
    "data = pd.read_csv('music.csv')\n",
    "X = data.drop(column = ['genre'])\n",
    "y = data['genre']\n",
    "\n",
    "model = DecisionTreeClassifier()\n",
    "model.fit(X,y)\n",
    "\n",
    "tree.export_graphviz(model, outfile = 'music-recommender.dot', feature_names = ['age', 'gender'], class_names = sorted(y.unique()),\n",
    "                     labels = 'all',rounded = True, filled = True)\n"
   ]
  }
 ],
 "metadata": {
  "kernelspec": {
   "display_name": "Python 3 (ipykernel)",
   "language": "python",
   "name": "python3"
  },
  "language_info": {
   "codemirror_mode": {
    "name": "ipython",
    "version": 3
   },
   "file_extension": ".py",
   "mimetype": "text/x-python",
   "name": "python",
   "nbconvert_exporter": "python",
   "pygments_lexer": "ipython3",
   "version": "3.11.4"
  }
 },
 "nbformat": 4,
 "nbformat_minor": 5
}
